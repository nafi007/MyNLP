{
 "cells": [
  {
   "cell_type": "code",
   "execution_count": 1,
   "id": "f3bbd196",
   "metadata": {},
   "outputs": [],
   "source": [
    "import re"
   ]
  },
  {
   "cell_type": "markdown",
   "id": "26eac65d",
   "metadata": {},
   "source": [
    "This regular expressions practice sheet was used side-by-side with https://regex101.com/"
   ]
  },
  {
   "cell_type": "code",
   "execution_count": 2,
   "id": "f6304fc4",
   "metadata": {},
   "outputs": [
    {
     "data": {
      "text/plain": [
       "['9991116666', '(999)-333-7777']"
      ]
     },
     "execution_count": 2,
     "metadata": {},
     "output_type": "execute_result"
    }
   ],
   "source": [
    "# Return phone numbers (that could be written in two formats)\n",
    "\n",
    "text='''\n",
    "Elon musk's phone number is 9991116666, call him if you have any questions on dodgecoin. \n",
    "Tesla's revenue is 40 billion. Tesla's CFO number is (999)-333-7777\n",
    "'''\n",
    "\n",
    "pattern = '\\(\\d{3}\\)-\\d{3}-\\d{4}|\\d{10}'\n",
    "\n",
    "matches = re.findall(pattern,text)\n",
    "matches"
   ]
  },
  {
   "cell_type": "code",
   "execution_count": 3,
   "id": "60259691",
   "metadata": {},
   "outputs": [
    {
     "data": {
      "text/plain": [
       "['Overview', 'Summary of Significant Accounting Policies']"
      ]
     },
     "execution_count": 3,
     "metadata": {},
     "output_type": "execute_result"
    }
   ],
   "source": [
    "# From Tesla company filings 2021\n",
    "# Return the titles next to \"Note 1\" and \"Note 2\" and so on\n",
    "\n",
    "text = '''\n",
    "Notes to Consolidated Financial Statements\n",
    "(unaudited)\n",
    "Note 1 - Overview\n",
    "Tesla, Inc. (“Tesla”, the “Company”, “we”, “us” or “our”) was incorporated in the State of Delaware on July 1, 2003. We design, develop,\n",
    "manufacture and sell high-performance fully electric vehicles and design, manufacture, install and sell solar energy generation and energy storage\n",
    "products. Our Chief Executive Officer, as the chief operating decision maker (“CODM”), organizes our company, manages resource allocations and\n",
    "measures performance among two operating and reportable segments: (i) automotive and (ii) energy generation and storage.\n",
    "Beginning in the first quarter of 2021, there has been a trend in many parts of the world of increasing availability and administration of vaccines\n",
    "against COVID-19, as well as an easing of restrictions on social, business, travel and government activities and functions. On the other hand, infection\n",
    "rates and regulations continue to fluctuate in various regions and there are ongoing global impacts resulting from the pandemic, including challenges\n",
    "and increases in costs for logistics and supply chains, such as increased port congestion, intermittent supplier delays and a shortfall of semiconductor\n",
    "supply. We have also previously been affected by temporary manufacturing closures, employment and compensation adjustments and impediments to\n",
    "administrative activities supporting our product deliveries and deployments.\n",
    "Note 2 - Summary of Significant Accounting Policies\n",
    "Unaudited Interim Financial Statements\n",
    "The consolidated balance sheet as of September 30, 2021, the consolidated statements of operations, the consolidated statements of\n",
    "comprehensive income, the consolidated statements of redeemable noncontrolling interests and equity for the three and nine months ended September\n",
    "30, 2021 and 2020 and the consolidated statements of cash flows for the nine months ended September 30, 2021 and 2020, as well as other information\n",
    "disclosed in the accompanying notes, are unaudited. The consolidated balance sheet as of December 31, 2020 was derived from the audited\n",
    "consolidated financial statements as of that date. The interim consolidated financial statements and the accompanying notes should be read in\n",
    "conjunction with the annual consolidated financial statements and the accompanying notes contained in our Annual Report on Form 10-K for the year\n",
    "ended December 31, 2020.\n",
    "'''\n",
    "\n",
    "pattern = 'Note \\d - ([^\\n]*)'\n",
    "re.findall(pattern,text)"
   ]
  },
  {
   "cell_type": "markdown",
   "id": "279d06aa",
   "metadata": {},
   "source": [
    "## Exact financial periods from a company's financial reporting "
   ]
  },
  {
   "cell_type": "code",
   "execution_count": 4,
   "id": "e32a4848",
   "metadata": {},
   "outputs": [
    {
     "name": "stdout",
     "output_type": "stream",
     "text": [
      "pattern 1 output: ['FY2021 Q1', 'FY2020 Q4', 'fy2020 Q4']\n",
      " \n",
      "pattern 2 output: ['FY2021 Q1', 'FY2020 Q4', 'fy2020 Q4']\n"
     ]
    }
   ],
   "source": [
    "text = '''\n",
    "The gross cost of operating lease vehicles in FY2021 Q1 was $4.85 billion.\n",
    "In previous quarter i.e. FY2020 Q4 it was $3 billion. Here's a lowercase example: fy2020 Q4\n",
    "'''\n",
    "\n",
    "pattern1 = 'FY\\d{4} Q[1234]'\n",
    "\n",
    "pattern2 = 'FY\\d{4} Q[1-4]'\n",
    "\n",
    "# Add flags below to take care of upper and lower case letters\n",
    "# re.I and re.IGNORECASE give the same thing\n",
    "\n",
    "matches1 = re.findall(pattern1,text, flags=re.I) \n",
    "matches2 = re.findall(pattern2,text, flags=re.IGNORECASE)\n",
    "\n",
    "print(f'pattern 1 output: {matches1}')\n",
    "print(' ')\n",
    "print(f'pattern 2 output: {matches2}')"
   ]
  },
  {
   "cell_type": "markdown",
   "id": "fdddc623",
   "metadata": {},
   "source": [
    "## What if I don't want the \"FY\" but just the \"2021 Q4\"?"
   ]
  },
  {
   "cell_type": "code",
   "execution_count": 5,
   "id": "8e441df0",
   "metadata": {},
   "outputs": [
    {
     "name": "stdout",
     "output_type": "stream",
     "text": [
      "pattern 1 output: ['2021 Q1', '2020 Q4', '2020 Q4']\n",
      " \n",
      "pattern 2 output: ['2021 Q1', '2020 Q4', '2020 Q4']\n"
     ]
    }
   ],
   "source": [
    "#Just add in brackets to capture the part you want from the matched texts\n",
    "pattern1 = 'FY(\\d{4} Q[1234])'\n",
    "\n",
    "pattern2 = 'FY(\\d{4} Q[1-4])'\n",
    "\n",
    "# Add flags below to take care of upper and lower case letters\n",
    "# re.I and re.IGNORECASE give the same thing\n",
    "\n",
    "matches1 = re.findall(pattern1,text, flags=re.I) \n",
    "matches2 = re.findall(pattern2,text, flags=re.IGNORECASE)\n",
    "\n",
    "print(f'pattern 1 output: {matches1}')\n",
    "print(' ')\n",
    "print(f'pattern 2 output: {matches2}')"
   ]
  },
  {
   "cell_type": "markdown",
   "id": "ad9ad1fc",
   "metadata": {},
   "source": [
    "## Instead of the financial periods, let's extract the actual values"
   ]
  },
  {
   "cell_type": "code",
   "execution_count": 6,
   "id": "5e57100c",
   "metadata": {},
   "outputs": [
    {
     "name": "stdout",
     "output_type": "stream",
     "text": [
      "pattern output: ['4.85', '3']\n"
     ]
    }
   ],
   "source": [
    "text = '''\n",
    "The gross cost of operating lease vehicles in FY2021 Q1 was $4.85 billion. Tesla's employee count is 5400.In previous quarter i.e. \n",
    "FY2020 Q4 it was $3 billion. Here's a lowercase example: fy2020 Q4\n",
    "'''\n",
    "\n",
    "pattern = '\\$([0-9\\.]+)'\n",
    "matches1 = re.findall(pattern,text) \n",
    "\n",
    "print(f'pattern output: {matches1}')"
   ]
  },
  {
   "cell_type": "markdown",
   "id": "fc3c45ee",
   "metadata": {},
   "source": [
    "## Now let's extract both the financial periods and the values"
   ]
  },
  {
   "cell_type": "code",
   "execution_count": 7,
   "id": "82469c00",
   "metadata": {},
   "outputs": [
    {
     "name": "stdout",
     "output_type": "stream",
     "text": [
      "[('2021 Q1', '4.85'), ('2020 Q4', '3')]\n"
     ]
    }
   ],
   "source": [
    "text = '''\n",
    "The gross cost of operating lease vehicles in FY2021 Q1 was $4.85 billion. Tesla's employee count is 5400.In previous quarter i.e. FY2020 Q4 it was $3 billion. Here's a lowercase example: fy2020 Q4\n",
    "'''\n",
    "# We want:\n",
    "#2021 Q1 ==> 4.85\n",
    "#2020 Q4 ==> 3\n",
    "\n",
    "\n",
    "\n",
    "pattern = 'FY(\\d{4} Q[1-4]) [^\\$]+\\$([0-9.]+)'\n",
    "matches = re.findall(pattern,text) \n",
    "\n",
    "print(f'{matches}')"
   ]
  },
  {
   "cell_type": "code",
   "execution_count": 8,
   "id": "0f4e36e3",
   "metadata": {},
   "outputs": [
    {
     "name": "stdout",
     "output_type": "stream",
     "text": [
      "<re.Match object; span=(47, 66), match='FY2021 Q1 was $4.85'>\n"
     ]
    },
    {
     "data": {
      "text/plain": [
       "('2021 Q1', '4.85')"
      ]
     },
     "execution_count": 8,
     "metadata": {},
     "output_type": "execute_result"
    }
   ],
   "source": [
    "### OTHER THAN findall, there is also a method called search\n",
    "# \"findall\" finds all occurences of the pattern in the text, whereas \"search\" will return the first occurence\n",
    "\n",
    "# Now let's extract both the financial periods and the values using search\n",
    "\n",
    "text = '''\n",
    "The gross cost of operating lease vehicles in FY2021 Q1 was $4.85 billion. Tesla's employee count is 5400.In previous quarter i.e. FY2020 Q4 it was $3 billion. Here's a lowercase example: fy2020 Q4\n",
    "'''\n",
    "# We want:\n",
    "#2021 Q1 ==> 4.85\n",
    "#2020 Q4 ==> 3\n",
    "\n",
    "\n",
    "\n",
    "pattern = 'FY(\\d{4} Q[1-4]) [^\\$]+\\$([0-9.]+)'\n",
    "matches = re.search(pattern,text) \n",
    "\n",
    "print(f'{matches}')\n",
    "matches.groups() #if you're using \"search\", you need to do this"
   ]
  }
 ],
 "metadata": {
  "kernelspec": {
   "display_name": "azureml_py38_PT_TF",
   "language": "python",
   "name": "azureml_py38_pt_tf"
  },
  "language_info": {
   "codemirror_mode": {
    "name": "ipython",
    "version": 3
   },
   "file_extension": ".py",
   "mimetype": "text/x-python",
   "name": "python",
   "nbconvert_exporter": "python",
   "pygments_lexer": "ipython3",
   "version": "3.8.5"
  }
 },
 "nbformat": 4,
 "nbformat_minor": 5
}
